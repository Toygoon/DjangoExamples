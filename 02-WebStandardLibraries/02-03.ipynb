{
 "cells": [
  {
   "cell_type": "code",
   "execution_count": 1,
   "metadata": {},
   "outputs": [
    {
     "name": "stdout",
     "output_type": "stream",
     "text": [
      "Date: Wed, 09 Mar 2022 10:39:16 GMT\n",
      "Server: WSGIServer/0.2 CPython/3.10.2\n",
      "Content-Type: text/html; charset=utf-8\n",
      "X-Frame-Options: DENY\n",
      "Content-Length: 1758\n",
      "X-Content-Type-Options: nosniff\n",
      "Referrer-Policy: same-origin\n",
      "Cross-Origin-Opener-Policy: same-origin\n",
      "\n",
      "\n",
      "<!DOCTYPE html>\n",
      "<html lang=\"ko\">\n",
      "\n",
      "\n",
      "\n",
      "\n",
      "<head>\n",
      "\n",
      "    <meta charset=\"utf-8\">\n",
      "    <meta http-equiv=\"X-UA-Compatible\" content=\"IE=edge\">\n",
      "    <meta name=\"viewport\" content=\"width=device-width, initial-scale=1\">\n",
      "\n",
      "    <title>ch2-test-server</title>\n",
      "\n",
      "    <link rel=\"stylesheet\" href=\"https://maxcdn.bootstrapcdn.com/bootstrap/3.3.6/css/bootstrap.min.css\">\n",
      "    <link rel=\"stylesheet\" href=\"https://maxcdn.bootstrapcdn.com/bootstrap/3.3.6/css/bootstrap-theme.min.css\">\n",
      "\n",
      "    <!-- my css -->\n",
      "    <link rel=\"shortcut\n"
     ]
    }
   ],
   "source": [
    "from urllib.request import urlopen, Request\n",
    "from urllib.parse import urlencode\n",
    "\n",
    "url = 'http://127.0.0.1:8000'\n",
    "data = {\n",
    "    'name': 'name',\n",
    "    'email': 'test@test.com',\n",
    "    'url': 'https://naver.com',\n",
    "}\n",
    "encData = urlencode(data)\n",
    "postData = bytes(encData, encoding='utf-8')\n",
    "req = Request(url, data=postData)\n",
    "req.add_header('Content-Type', 'application/x-www-from-urlencoded')\n",
    "f = urlopen(req)\n",
    "\n",
    "print(f.info())\n",
    "print(f.read(500).decode('utf-8'))"
   ]
  }
 ],
 "metadata": {
  "interpreter": {
   "hash": "7a792fcb311f9eb9f3c1b942a8c87ada8484712b89b670347c16a1088e0a1f69"
  },
  "kernelspec": {
   "display_name": "Python 3.10.2 64-bit",
   "language": "python",
   "name": "python3"
  },
  "language_info": {
   "codemirror_mode": {
    "name": "ipython",
    "version": 3
   },
   "file_extension": ".py",
   "mimetype": "text/x-python",
   "name": "python",
   "nbconvert_exporter": "python",
   "pygments_lexer": "ipython3",
   "version": "3.10.2"
  },
  "orig_nbformat": 4
 },
 "nbformat": 4,
 "nbformat_minor": 2
}
